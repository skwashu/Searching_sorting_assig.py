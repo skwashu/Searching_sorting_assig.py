{
 "cells": [
  {
   "cell_type": "code",
   "execution_count": 1,
   "id": "8f68fd37",
   "metadata": {},
   "outputs": [],
   "source": [
    "#Implement Binary Search\n",
    "\n",
    "def binary_search(arr, target):\n",
    "\n",
    "    left, right = 0, len(arr) - 1\n",
    "    \n",
    "    while left <= right:\n",
    "        mid = (left + right) // 2\n",
    "        if arr[mid] == target:\n",
    "            return mid\n",
    "        elif arr[mid] < target:\n",
    "            left = mid + 1\n",
    "        else:\n",
    "            right = mid - 1\n",
    "            \n",
    "    return -1\n",
    "\n",
    "\n",
    "   \n"
   ]
  },
  {
   "cell_type": "code",
   "execution_count": null,
   "id": "2cec9561",
   "metadata": {},
   "outputs": [],
   "source": [
    "#implement Merge Sort\n",
    "\n",
    "def merge_sort(arr):\n",
    "  \n",
    "    if len(arr) <= 1:\n",
    "        return arr\n",
    "\n",
    "    # Divide the list into two halves\n",
    "    mid = len(arr) // 2\n",
    "    left_half = arr[:mid]\n",
    "    right_half = arr[mid:]\n",
    "\n",
    "    # Recursively sort each half\n",
    "    left_half = merge_sort(left_half)\n",
    "    right_half = merge_sort(right_half)\n",
    "\n",
    "    # Merge the sorted halves into a single sorted list\n",
    "    return merge(left_half, right_half)\n",
    "\n",
    "\n",
    "def merge(left_half, right_half):\n",
    "\n",
    "     merged_arr = []\n",
    "    left_idx = right_idx = 0\n",
    "\n",
    "    # Merge the two halves into a single sorted list\n",
    "    while left_idx < len(left_half) and right_idx < len(right_half):\n",
    "        if left_half[left_idx] <= right_half[right_idx]:\n",
    "            merged_arr.append(left_half[left_idx])\n",
    "            left_idx += 1\n",
    "        else:\n",
    "            merged_arr.append(right_half[right_idx])\n",
    "            right_idx += 1\n",
    "\n",
    "    # Append any remaining elements from the left or right half\n",
    "    if left_idx < len(left_half):\n",
    "        merged_arr.extend(left_half[left_idx:])\n",
    "    elif right_idx < len(right_half):\n",
    "        merged_arr.extend(right_half[right_idx:])\n",
    "\n",
    "    return merged_arr\n"
   ]
  },
  {
   "cell_type": "code",
   "execution_count": 2,
   "id": "ee0acb45",
   "metadata": {},
   "outputs": [],
   "source": [
    "#Implement Quick Sort\n",
    "\n",
    "def quick_sort(arr):\n",
    "    if len(arr) <= 1:\n",
    "        return arr\n",
    "    else:\n",
    "        pivot = arr[0]\n",
    "        left = []\n",
    "        right = []\n",
    "        for i in range(1, len(arr)):\n",
    "            if arr[i] < pivot:\n",
    "                left.append(arr[i])\n",
    "            else:\n",
    "                right.append(arr[i])\n",
    "        return quick_sort(left) + [pivot] + quick_sort(right)\n"
   ]
  },
  {
   "cell_type": "code",
   "execution_count": null,
   "id": "4bea82fc",
   "metadata": {},
   "outputs": [],
   "source": [
    "#Implement Insertion Sort\n",
    "\n",
    "def insertion_sort(arr):\n",
    "    for i in range(1, len(arr)):\n",
    "        key = arr[i]\n",
    "        j = i - 1\n",
    "        while j >= 0 and arr[j] > key:\n",
    "            arr[j + 1] = arr[j]\n",
    "            j -= 1\n",
    "        arr[j + 1] = key\n",
    "    return arr\n"
   ]
  }
 ],
 "metadata": {
  "kernelspec": {
   "display_name": "Python 3 (ipykernel)",
   "language": "python",
   "name": "python3"
  },
  "language_info": {
   "codemirror_mode": {
    "name": "ipython",
    "version": 3
   },
   "file_extension": ".py",
   "mimetype": "text/x-python",
   "name": "python",
   "nbconvert_exporter": "python",
   "pygments_lexer": "ipython3",
   "version": "3.10.9"
  }
 },
 "nbformat": 4,
 "nbformat_minor": 5
}
