{
 "cells": [
  {
   "cell_type": "code",
   "execution_count": 3,
   "id": "3ed0a5bb",
   "metadata": {},
   "outputs": [
    {
     "name": "stdout",
     "output_type": "stream",
     "text": [
      "['apple', 'banana', 'kiwi', 'orange']\n"
     ]
    }
   ],
   "source": [
    "#Write a program to sort list of strings (similar to that of dictionary)\n",
    "\n",
    "my_list = ['apple', 'orange', 'banana', 'kiwi']\n",
    "\n",
    "sorted_list = sorted(my_list)\n",
    "\n",
    "print(sorted_list)\n",
    "\n",
    "\n"
   ]
  },
  {
   "cell_type": "code",
   "execution_count": null,
   "id": "3c151faa",
   "metadata": {},
   "outputs": [],
   "source": []
  }
 ],
 "metadata": {
  "kernelspec": {
   "display_name": "Python 3 (ipykernel)",
   "language": "python",
   "name": "python3"
  },
  "language_info": {
   "codemirror_mode": {
    "name": "ipython",
    "version": 3
   },
   "file_extension": ".py",
   "mimetype": "text/x-python",
   "name": "python",
   "nbconvert_exporter": "python",
   "pygments_lexer": "ipython3",
   "version": "3.10.9"
  }
 },
 "nbformat": 4,
 "nbformat_minor": 5
}
